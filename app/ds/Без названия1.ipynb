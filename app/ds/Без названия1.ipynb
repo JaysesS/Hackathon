{
 "cells": [
  {
   "cell_type": "code",
   "execution_count": 1,
   "id": "b25a1608",
   "metadata": {},
   "outputs": [],
   "source": [
    "import pandas as pd\n",
    "from typing import Optional\n",
    "from dataclasses import dataclass, asdict\n",
    "from datetime import datetime, timedelta\n",
    "import matplotlib.pyplot as plt\n",
    "import seaborn as sns\n",
    "import random\n",
    "import numpy as np\n",
    "from sklearn.preprocessing import OneHotEncoder, LabelEncoder\n",
    "\n",
    "import helpers\n",
    "\n",
    "helpers.period_days = 7"
   ]
  },
  {
   "cell_type": "code",
   "execution_count": 2,
   "id": "d6a445da",
   "metadata": {},
   "outputs": [],
   "source": [
    "@dataclass\n",
    "class TaskRawData:\n",
    "    process_name: str\n",
    "    task_name: str\n",
    "    owner_name: str\n",
    "    assigner: Optional[str]\n",
    "    start_time: datetime\n",
    "    end_time: Optional[datetime]\n",
    "    due_time: datetime\n",
    "    priority: int\n",
    "    var_count: int\n",
    "    \n",
    "    def get_as_row(self, column_names):\n",
    "        row = []\n",
    "        for col in column_names:\n",
    "            row.append(self.__getattribute__(col))\n",
    "        return row\n",
    "    \n",
    "    @classmethod\n",
    "    def collumn(cls):\n",
    "        return tuple(cls.__dataclass_fields__.keys())\n",
    "    \n"
   ]
  },
  {
   "cell_type": "code",
   "execution_count": 3,
   "id": "1e7e2e3b",
   "metadata": {},
   "outputs": [],
   "source": [
    "\n",
    "# helpers.get_task_dates(30, 10)\n",
    "# helpers.generate_random_val(100, 15)\n",
    "process_name_1 = \"Заказ товара\"\n",
    "task_name_1 = \"проверка склада\"\n",
    "task_priority_1 = 50\n",
    "task_var_count_1 = 1\n",
    "task_due_minutes_1 = 60\n",
    "owner = \"BOSS\"\n",
    "assigner_list_1 = [{\"name\":\"Соня\", \"dev_pos\":(10, None)},\n",
    "                   {\"name\":\"Миша\", \"dev_pos\":(10, True)},\n",
    "                   {\"name\":\"Глеб\", \"dev_pos\":(5, None)}]\n",
    "\n"
   ]
  },
  {
   "cell_type": "code",
   "execution_count": 4,
   "id": "23ff2bb2",
   "metadata": {},
   "outputs": [],
   "source": [
    "task_list = []\n",
    "for i in range(300):\n",
    "    assigner = random.choice(assigner_list_1)\n",
    "    start, due, end = helpers.get_task_dates(task_due_minutes_1, *assigner['dev_pos'])\n",
    "    task_list.append(TaskRawData(process_name_1, task_name_1, owner, assigner['name'], start, end, due, task_priority_1, task_var_count_1))\n",
    "    "
   ]
  },
  {
   "cell_type": "code",
   "execution_count": 5,
   "id": "3249a410",
   "metadata": {},
   "outputs": [],
   "source": [
    "process_name_2 = \"закупка\"\n",
    "task_name_2 = \"Оформить заявку\"\n",
    "task_priority_2 = 50\n",
    "task_var_count_2 = 3\n",
    "task_due_minutes_2 = 60\n",
    "owner = \"BOSS\"\n",
    "assigner_list_2 = [{\"name\":\"Соня\", \"dev_pos\":(10, None)},\n",
    "                   {\"name\":\"Миша\", \"dev_pos\":(15, False)},\n",
    "                   {\"name\":\"Глеб\", \"dev_pos\":(3, True)}]"
   ]
  },
  {
   "cell_type": "code",
   "execution_count": 6,
   "id": "83e1953d",
   "metadata": {},
   "outputs": [],
   "source": [
    "task_list_2 = []\n",
    "for i in range(300):\n",
    "    assigner = random.choice(assigner_list_2)\n",
    "    start, due, end = helpers.get_task_dates(task_due_minutes_2, *assigner['dev_pos'])\n",
    "    task_list_2.append(TaskRawData(process_name_2, task_name_2, owner, assigner['name'], start, end, due, task_priority_2 + (10 if random.random()>0.8 else 0), task_var_count_2))\n",
    "    "
   ]
  },
  {
   "cell_type": "markdown",
   "id": "ebbb7cb2",
   "metadata": {},
   "source": [
    "##############"
   ]
  },
  {
   "cell_type": "code",
   "execution_count": 7,
   "id": "b3024813",
   "metadata": {},
   "outputs": [],
   "source": [
    "process_name_3 = \"информирование\"\n",
    "task_name_3 = \"обзвон покупателей\"\n",
    "task_priority_3 = 45\n",
    "task_var_count_3 = 8\n",
    "task_due_minutes_3 = 67\n",
    "owner = \"BOSS\"\n",
    "assigner_list_3 = [{\"name\":\"Соня\", \"dev_pos\":(13, True)},\n",
    "                   {\"name\":\"Миша\", \"dev_pos\":(8, False)},\n",
    "                   {\"name\":\"Глеб\", \"dev_pos\":(20, None)}]"
   ]
  },
  {
   "cell_type": "code",
   "execution_count": 8,
   "id": "97f0f28b",
   "metadata": {},
   "outputs": [],
   "source": [
    "task_list_3 = []\n",
    "for i in range(1000):\n",
    "    assigner = random.choice(assigner_list_3)\n",
    "    start, due, end = helpers.get_task_dates(task_due_minutes_3, *assigner['dev_pos'])\n",
    "    task_list_3.append(TaskRawData(process_name_3, task_name_3, owner, assigner['name'], start, end, due, task_priority_3 + (10 if random.random()>0.8 else 0), task_var_count_3))\n",
    "    "
   ]
  },
  {
   "cell_type": "code",
   "execution_count": 9,
   "id": "6127a8d6",
   "metadata": {},
   "outputs": [],
   "source": [
    "process_name_4 = \"договор\"\n",
    "task_name_4 = \"оформление договора\"\n",
    "task_priority_4 = 60\n",
    "task_var_count_4 = 12\n",
    "task_due_minutes_4 = 10\n",
    "owner = \"BOSS\"\n",
    "assigner_list_4 = [{\"name\":\"Соня\", \"dev_pos\":(3, None)},\n",
    "                   {\"name\":\"Миша\", \"dev_pos\":(7, True)},\n",
    "                   {\"name\":\"Глеб\", \"dev_pos\":(10, False)}]"
   ]
  },
  {
   "cell_type": "code",
   "execution_count": 10,
   "id": "9bf0bb9c",
   "metadata": {},
   "outputs": [],
   "source": [
    "task_list_4 = []\n",
    "for i in range(1000):\n",
    "    assigner = random.choice(assigner_list_4)\n",
    "    start, due, end = helpers.get_task_dates(task_due_minutes_4, *assigner['dev_pos'])\n",
    "    task_list_4.append(TaskRawData(process_name_4, task_name_4, owner, assigner['name'], start, end, due, task_priority_4 + (10 if random.random()>0.8 else 0), task_var_count_4))\n",
    "    "
   ]
  },
  {
   "cell_type": "markdown",
   "id": "d5a9d023",
   "metadata": {},
   "source": [
    "################"
   ]
  },
  {
   "cell_type": "code",
   "execution_count": 11,
   "id": "07d24da1",
   "metadata": {},
   "outputs": [],
   "source": [
    "collumn_names = TaskRawData.collumn()"
   ]
  },
  {
   "cell_type": "code",
   "execution_count": 12,
   "id": "dd03e6f2",
   "metadata": {},
   "outputs": [
    {
     "data": {
      "text/html": [
       "<div>\n",
       "<style scoped>\n",
       "    .dataframe tbody tr th:only-of-type {\n",
       "        vertical-align: middle;\n",
       "    }\n",
       "\n",
       "    .dataframe tbody tr th {\n",
       "        vertical-align: top;\n",
       "    }\n",
       "\n",
       "    .dataframe thead th {\n",
       "        text-align: right;\n",
       "    }\n",
       "</style>\n",
       "<table border=\"1\" class=\"dataframe\">\n",
       "  <thead>\n",
       "    <tr style=\"text-align: right;\">\n",
       "      <th></th>\n",
       "      <th>process_name</th>\n",
       "      <th>task_name</th>\n",
       "      <th>owner_name</th>\n",
       "      <th>assigner</th>\n",
       "      <th>start_time</th>\n",
       "      <th>end_time</th>\n",
       "      <th>due_time</th>\n",
       "      <th>priority</th>\n",
       "      <th>var_count</th>\n",
       "    </tr>\n",
       "  </thead>\n",
       "  <tbody>\n",
       "    <tr>\n",
       "      <th>0</th>\n",
       "      <td>Заказ товара</td>\n",
       "      <td>проверка склада</td>\n",
       "      <td>BOSS</td>\n",
       "      <td>Глеб</td>\n",
       "      <td>2021-08-31 17:51:58</td>\n",
       "      <td>2021-08-31 18:51:18.302065</td>\n",
       "      <td>2021-08-31 18:51:58</td>\n",
       "      <td>50</td>\n",
       "      <td>1</td>\n",
       "    </tr>\n",
       "    <tr>\n",
       "      <th>1</th>\n",
       "      <td>Заказ товара</td>\n",
       "      <td>проверка склада</td>\n",
       "      <td>BOSS</td>\n",
       "      <td>Глеб</td>\n",
       "      <td>2021-09-02 10:32:43</td>\n",
       "      <td>2021-09-02 11:31:54.215308</td>\n",
       "      <td>2021-09-02 11:32:43</td>\n",
       "      <td>50</td>\n",
       "      <td>1</td>\n",
       "    </tr>\n",
       "    <tr>\n",
       "      <th>2</th>\n",
       "      <td>Заказ товара</td>\n",
       "      <td>проверка склада</td>\n",
       "      <td>BOSS</td>\n",
       "      <td>Миша</td>\n",
       "      <td>2021-08-29 09:20:52</td>\n",
       "      <td>2021-08-29 10:22:07.256957</td>\n",
       "      <td>2021-08-29 10:20:52</td>\n",
       "      <td>50</td>\n",
       "      <td>1</td>\n",
       "    </tr>\n",
       "    <tr>\n",
       "      <th>3</th>\n",
       "      <td>Заказ товара</td>\n",
       "      <td>проверка склада</td>\n",
       "      <td>BOSS</td>\n",
       "      <td>Соня</td>\n",
       "      <td>2021-08-29 09:18:35</td>\n",
       "      <td>2021-08-29 10:15:47.328339</td>\n",
       "      <td>2021-08-29 10:18:35</td>\n",
       "      <td>50</td>\n",
       "      <td>1</td>\n",
       "    </tr>\n",
       "    <tr>\n",
       "      <th>4</th>\n",
       "      <td>Заказ товара</td>\n",
       "      <td>проверка склада</td>\n",
       "      <td>BOSS</td>\n",
       "      <td>Миша</td>\n",
       "      <td>2021-08-29 14:31:57</td>\n",
       "      <td>2021-08-29 15:33:47.138890</td>\n",
       "      <td>2021-08-29 15:31:57</td>\n",
       "      <td>50</td>\n",
       "      <td>1</td>\n",
       "    </tr>\n",
       "    <tr>\n",
       "      <th>...</th>\n",
       "      <td>...</td>\n",
       "      <td>...</td>\n",
       "      <td>...</td>\n",
       "      <td>...</td>\n",
       "      <td>...</td>\n",
       "      <td>...</td>\n",
       "      <td>...</td>\n",
       "      <td>...</td>\n",
       "      <td>...</td>\n",
       "    </tr>\n",
       "    <tr>\n",
       "      <th>2595</th>\n",
       "      <td>договор</td>\n",
       "      <td>оформление договора</td>\n",
       "      <td>BOSS</td>\n",
       "      <td>Глеб</td>\n",
       "      <td>2021-08-29 09:55:43</td>\n",
       "      <td>2021-08-29 10:04:55.758978</td>\n",
       "      <td>2021-08-29 10:05:43</td>\n",
       "      <td>70</td>\n",
       "      <td>12</td>\n",
       "    </tr>\n",
       "    <tr>\n",
       "      <th>2596</th>\n",
       "      <td>договор</td>\n",
       "      <td>оформление договора</td>\n",
       "      <td>BOSS</td>\n",
       "      <td>Соня</td>\n",
       "      <td>2021-09-04 13:03:38</td>\n",
       "      <td>2021-09-04 13:13:46.546510</td>\n",
       "      <td>2021-09-04 13:13:38</td>\n",
       "      <td>60</td>\n",
       "      <td>12</td>\n",
       "    </tr>\n",
       "    <tr>\n",
       "      <th>2597</th>\n",
       "      <td>договор</td>\n",
       "      <td>оформление договора</td>\n",
       "      <td>BOSS</td>\n",
       "      <td>Миша</td>\n",
       "      <td>2021-08-31 18:39:09</td>\n",
       "      <td>2021-08-31 18:49:32.293185</td>\n",
       "      <td>2021-08-31 18:49:09</td>\n",
       "      <td>60</td>\n",
       "      <td>12</td>\n",
       "    </tr>\n",
       "    <tr>\n",
       "      <th>2598</th>\n",
       "      <td>договор</td>\n",
       "      <td>оформление договора</td>\n",
       "      <td>BOSS</td>\n",
       "      <td>Соня</td>\n",
       "      <td>2021-09-04 07:18:01</td>\n",
       "      <td>2021-09-04 07:27:59.346816</td>\n",
       "      <td>2021-09-04 07:28:01</td>\n",
       "      <td>60</td>\n",
       "      <td>12</td>\n",
       "    </tr>\n",
       "    <tr>\n",
       "      <th>2599</th>\n",
       "      <td>договор</td>\n",
       "      <td>оформление договора</td>\n",
       "      <td>BOSS</td>\n",
       "      <td>Соня</td>\n",
       "      <td>2021-08-30 08:28:16</td>\n",
       "      <td>2021-08-30 08:38:08.715473</td>\n",
       "      <td>2021-08-30 08:38:16</td>\n",
       "      <td>60</td>\n",
       "      <td>12</td>\n",
       "    </tr>\n",
       "  </tbody>\n",
       "</table>\n",
       "<p>2600 rows × 9 columns</p>\n",
       "</div>"
      ],
      "text/plain": [
       "      process_name            task_name owner_name assigner  \\\n",
       "0     Заказ товара      проверка склада       BOSS     Глеб   \n",
       "1     Заказ товара      проверка склада       BOSS     Глеб   \n",
       "2     Заказ товара      проверка склада       BOSS     Миша   \n",
       "3     Заказ товара      проверка склада       BOSS     Соня   \n",
       "4     Заказ товара      проверка склада       BOSS     Миша   \n",
       "...            ...                  ...        ...      ...   \n",
       "2595       договор  оформление договора       BOSS     Глеб   \n",
       "2596       договор  оформление договора       BOSS     Соня   \n",
       "2597       договор  оформление договора       BOSS     Миша   \n",
       "2598       договор  оформление договора       BOSS     Соня   \n",
       "2599       договор  оформление договора       BOSS     Соня   \n",
       "\n",
       "              start_time                   end_time            due_time  \\\n",
       "0    2021-08-31 17:51:58 2021-08-31 18:51:18.302065 2021-08-31 18:51:58   \n",
       "1    2021-09-02 10:32:43 2021-09-02 11:31:54.215308 2021-09-02 11:32:43   \n",
       "2    2021-08-29 09:20:52 2021-08-29 10:22:07.256957 2021-08-29 10:20:52   \n",
       "3    2021-08-29 09:18:35 2021-08-29 10:15:47.328339 2021-08-29 10:18:35   \n",
       "4    2021-08-29 14:31:57 2021-08-29 15:33:47.138890 2021-08-29 15:31:57   \n",
       "...                  ...                        ...                 ...   \n",
       "2595 2021-08-29 09:55:43 2021-08-29 10:04:55.758978 2021-08-29 10:05:43   \n",
       "2596 2021-09-04 13:03:38 2021-09-04 13:13:46.546510 2021-09-04 13:13:38   \n",
       "2597 2021-08-31 18:39:09 2021-08-31 18:49:32.293185 2021-08-31 18:49:09   \n",
       "2598 2021-09-04 07:18:01 2021-09-04 07:27:59.346816 2021-09-04 07:28:01   \n",
       "2599 2021-08-30 08:28:16 2021-08-30 08:38:08.715473 2021-08-30 08:38:16   \n",
       "\n",
       "      priority  var_count  \n",
       "0           50          1  \n",
       "1           50          1  \n",
       "2           50          1  \n",
       "3           50          1  \n",
       "4           50          1  \n",
       "...        ...        ...  \n",
       "2595        70         12  \n",
       "2596        60         12  \n",
       "2597        60         12  \n",
       "2598        60         12  \n",
       "2599        60         12  \n",
       "\n",
       "[2600 rows x 9 columns]"
      ]
     },
     "execution_count": 12,
     "metadata": {},
     "output_type": "execute_result"
    }
   ],
   "source": [
    "df = pd.DataFrame.from_records([asdict(task) for task in (*task_list, *task_list_2, *task_list_3, *task_list_4)])\n",
    "df"
   ]
  },
  {
   "cell_type": "code",
   "execution_count": 13,
   "id": "8388f731",
   "metadata": {},
   "outputs": [],
   "source": [
    "# start day of week\n",
    "df['start_dow'] = df['start_time'].apply(lambda x: x.date().weekday())\n",
    "df['start_is_weekend'] = df['start_time'].apply(lambda x: 1 if x.date().weekday() in (5, 6) else 0)\n",
    "# due day of week\n",
    "df['due_dow'] = df['due_time'].apply(lambda x: x.date().weekday())\n",
    "df['due_is_weekend'] = df['due_time'].apply(lambda x: 1 if x.date().weekday() in (5, 6) else 0)\n",
    "# df[df.start_is_weekend == 0]"
   ]
  },
  {
   "cell_type": "code",
   "execution_count": 14,
   "id": "c5219021",
   "metadata": {},
   "outputs": [],
   "source": [
    "elapsed = []\n",
    "other_task_on_start = []\n",
    "other_task_on_end = []\n",
    "expired = []\n",
    "for row_index, row in df.iterrows():\n",
    "    task_start = row.start_time\n",
    "    task_end = row.end_time\n",
    "    assigner = row.assigner\n",
    "    task_start = df[(df.assigner == assigner) & (df.start_time < task_start) & (df.end_time > task_start)].shape[0]\n",
    "    other_task_on_start.append(task_start)\n",
    "# other_task_on_end нельзя использовать мы ищем end по сути\n",
    "#     other_task_on_end.append(df[(df.assigner == assigner) & (df.start_time < task_end) & (df.end_time > task_end)].shape[0])\n",
    "#     print(other_task_on_start.shape[0], other_task_on_end.shape[0])\n",
    "    elapsed.append(int((row.end_time - row.start_time).total_seconds()*(1+task_start/10)))\n",
    "    \n",
    "#     expired.append(row.end_time > row.due_time)\n",
    "\n",
    "df['elapsed'] = elapsed\n",
    "df['other_task_on_start'] = other_task_on_start\n",
    "# df['other_task_on_end'] = other_task_on_end\n",
    "# df['expired'] = expired\n",
    "\n"
   ]
  },
  {
   "cell_type": "code",
   "execution_count": 15,
   "id": "057a787f",
   "metadata": {},
   "outputs": [
    {
     "data": {
      "text/html": [
       "<div>\n",
       "<style scoped>\n",
       "    .dataframe tbody tr th:only-of-type {\n",
       "        vertical-align: middle;\n",
       "    }\n",
       "\n",
       "    .dataframe tbody tr th {\n",
       "        vertical-align: top;\n",
       "    }\n",
       "\n",
       "    .dataframe thead th {\n",
       "        text-align: right;\n",
       "    }\n",
       "</style>\n",
       "<table border=\"1\" class=\"dataframe\">\n",
       "  <thead>\n",
       "    <tr style=\"text-align: right;\">\n",
       "      <th></th>\n",
       "      <th>due_dow_0</th>\n",
       "      <th>due_dow_1</th>\n",
       "      <th>due_dow_2</th>\n",
       "      <th>due_dow_3</th>\n",
       "      <th>due_dow_4</th>\n",
       "      <th>due_dow_5</th>\n",
       "      <th>due_dow_6</th>\n",
       "    </tr>\n",
       "  </thead>\n",
       "  <tbody>\n",
       "    <tr>\n",
       "      <th>0</th>\n",
       "      <td>0</td>\n",
       "      <td>1</td>\n",
       "      <td>0</td>\n",
       "      <td>0</td>\n",
       "      <td>0</td>\n",
       "      <td>0</td>\n",
       "      <td>0</td>\n",
       "    </tr>\n",
       "    <tr>\n",
       "      <th>1</th>\n",
       "      <td>0</td>\n",
       "      <td>0</td>\n",
       "      <td>0</td>\n",
       "      <td>1</td>\n",
       "      <td>0</td>\n",
       "      <td>0</td>\n",
       "      <td>0</td>\n",
       "    </tr>\n",
       "    <tr>\n",
       "      <th>2</th>\n",
       "      <td>0</td>\n",
       "      <td>0</td>\n",
       "      <td>0</td>\n",
       "      <td>0</td>\n",
       "      <td>0</td>\n",
       "      <td>0</td>\n",
       "      <td>1</td>\n",
       "    </tr>\n",
       "    <tr>\n",
       "      <th>3</th>\n",
       "      <td>0</td>\n",
       "      <td>0</td>\n",
       "      <td>0</td>\n",
       "      <td>0</td>\n",
       "      <td>0</td>\n",
       "      <td>0</td>\n",
       "      <td>1</td>\n",
       "    </tr>\n",
       "    <tr>\n",
       "      <th>4</th>\n",
       "      <td>0</td>\n",
       "      <td>0</td>\n",
       "      <td>0</td>\n",
       "      <td>0</td>\n",
       "      <td>0</td>\n",
       "      <td>0</td>\n",
       "      <td>1</td>\n",
       "    </tr>\n",
       "    <tr>\n",
       "      <th>...</th>\n",
       "      <td>...</td>\n",
       "      <td>...</td>\n",
       "      <td>...</td>\n",
       "      <td>...</td>\n",
       "      <td>...</td>\n",
       "      <td>...</td>\n",
       "      <td>...</td>\n",
       "    </tr>\n",
       "    <tr>\n",
       "      <th>2595</th>\n",
       "      <td>0</td>\n",
       "      <td>0</td>\n",
       "      <td>0</td>\n",
       "      <td>0</td>\n",
       "      <td>0</td>\n",
       "      <td>0</td>\n",
       "      <td>1</td>\n",
       "    </tr>\n",
       "    <tr>\n",
       "      <th>2596</th>\n",
       "      <td>0</td>\n",
       "      <td>0</td>\n",
       "      <td>0</td>\n",
       "      <td>0</td>\n",
       "      <td>0</td>\n",
       "      <td>1</td>\n",
       "      <td>0</td>\n",
       "    </tr>\n",
       "    <tr>\n",
       "      <th>2597</th>\n",
       "      <td>0</td>\n",
       "      <td>1</td>\n",
       "      <td>0</td>\n",
       "      <td>0</td>\n",
       "      <td>0</td>\n",
       "      <td>0</td>\n",
       "      <td>0</td>\n",
       "    </tr>\n",
       "    <tr>\n",
       "      <th>2598</th>\n",
       "      <td>0</td>\n",
       "      <td>0</td>\n",
       "      <td>0</td>\n",
       "      <td>0</td>\n",
       "      <td>0</td>\n",
       "      <td>1</td>\n",
       "      <td>0</td>\n",
       "    </tr>\n",
       "    <tr>\n",
       "      <th>2599</th>\n",
       "      <td>1</td>\n",
       "      <td>0</td>\n",
       "      <td>0</td>\n",
       "      <td>0</td>\n",
       "      <td>0</td>\n",
       "      <td>0</td>\n",
       "      <td>0</td>\n",
       "    </tr>\n",
       "  </tbody>\n",
       "</table>\n",
       "<p>2600 rows × 7 columns</p>\n",
       "</div>"
      ],
      "text/plain": [
       "      due_dow_0  due_dow_1  due_dow_2  due_dow_3  due_dow_4  due_dow_5  \\\n",
       "0             0          1          0          0          0          0   \n",
       "1             0          0          0          1          0          0   \n",
       "2             0          0          0          0          0          0   \n",
       "3             0          0          0          0          0          0   \n",
       "4             0          0          0          0          0          0   \n",
       "...         ...        ...        ...        ...        ...        ...   \n",
       "2595          0          0          0          0          0          0   \n",
       "2596          0          0          0          0          0          1   \n",
       "2597          0          1          0          0          0          0   \n",
       "2598          0          0          0          0          0          1   \n",
       "2599          1          0          0          0          0          0   \n",
       "\n",
       "      due_dow_6  \n",
       "0             0  \n",
       "1             0  \n",
       "2             1  \n",
       "3             1  \n",
       "4             1  \n",
       "...         ...  \n",
       "2595          1  \n",
       "2596          0  \n",
       "2597          0  \n",
       "2598          0  \n",
       "2599          0  \n",
       "\n",
       "[2600 rows x 7 columns]"
      ]
     },
     "execution_count": 15,
     "metadata": {},
     "output_type": "execute_result"
    }
   ],
   "source": [
    "# кодируем категориальные признаки\n",
    "categorial_sign = ['process_name','task_name', 'owner_name','assigner', 'start_dow', 'due_dow']\n",
    "for sign in categorial_sign:\n",
    "    tmp = pd.get_dummies(df[sign], prefix=sign)\n",
    "    df = pd.concat([df,tmp], axis=1)\n",
    "\n",
    "tmp\n",
    "\n",
    "# for naming_col in [\"assigner\", \"task_name\"]:\n",
    "#     naming_df = df[naming_col]# creating instance of labelencoder\n",
    "    \n",
    "#     labelencoder = LabelEncoder()# Assigning numerical values and storing in another column\n",
    "#     df[f'{naming_col}_number'] = labelencoder.fit_transform(naming_df)\n",
    "# #     df\n",
    "# df.columns.values"
   ]
  },
  {
   "cell_type": "markdown",
   "id": "cb9456a8",
   "metadata": {},
   "source": [
    "вроде более менее преобразованные данные получились\n",
    "необходимо убрать лишнее, это незакодированные категориальные признаки и возможно стоит убрать необработанное время\n",
    "целевой признак затраченное время(elapsed)"
   ]
  },
  {
   "cell_type": "code",
   "execution_count": 16,
   "id": "83239353",
   "metadata": {},
   "outputs": [
    {
     "data": {
      "image/png": "[encoded data removed]",
      "text/plain": [
       "<Figure size 900x900 with 30 Axes>"
      ]
     },
     "metadata": {
      "needs_background": "light"
     },
     "output_type": "display_data"
    }
   ],
   "source": [
    "cols = ['start_dow', 'due_dow', 'elapsed', 'priority', 'other_task_on_start']\n",
    "sns_plot = sns.pairplot(df[cols])"
   ]
  },
  {
   "cell_type": "code",
   "execution_count": 17,
   "id": "b87646f3",
   "metadata": {},
   "outputs": [],
   "source": [
    "need_drop = [\"process_name\", \"task_name\", \"owner_name\", \"assigner\", \"end_time\", \"start_time\", \"due_time\", \"start_dow\", \"due_dow\"]\n",
    "# \"task_name_number\", \"assigner_number\"\n",
    "df = df.drop(columns=need_drop)"
   ]
  },
  {
   "cell_type": "code",
   "execution_count": 18,
   "id": "5f60397c",
   "metadata": {
    "scrolled": true
   },
   "outputs": [],
   "source": [
    "corr_matrix = df.corr().abs()\n",
    "sol = (corr_matrix.where(np.triu(np.ones(corr_matrix.shape), k=1).astype(bool))\n",
    "                  .stack()\n",
    "                  .sort_values(ascending=False))\n",
    "# sol[:30]"
   ]
  },
  {
   "cell_type": "markdown",
   "id": "07a763a4",
   "metadata": {},
   "source": [
    "т.к. корреляция признаков сильная, попробуем использовать Ridge  и Lasso регрессии"
   ]
  },
  {
   "cell_type": "code",
   "execution_count": 19,
   "id": "0fe3782c",
   "metadata": {},
   "outputs": [],
   "source": [
    "\n",
    "Y = df.elapsed.values\n",
    "X = df.drop(columns=['elapsed'])\n"
   ]
  },
  {
   "cell_type": "code",
   "execution_count": 20,
   "id": "86e806a8",
   "metadata": {},
   "outputs": [],
   "source": [
    "# X.head()\n",
    "# X"
   ]
  },
  {
   "cell_type": "code",
   "execution_count": 21,
   "id": "95a0ce26",
   "metadata": {
    "scrolled": true
   },
   "outputs": [
    {
     "name": "stderr",
     "output_type": "stream",
     "text": [
      "/home/roman/projects/jupiter/venv/lib/python3.8/site-packages/sklearn/model_selection/_split.py:666: UserWarning: The least populated class in y has only 1 members, which is less than n_splits=5.\n",
      "  warnings.warn((\"The least populated class in y has only %d\"\n"
     ]
    },
    {
     "name": "stdout",
     "output_type": "stream",
     "text": [
      "######\n",
      "ridge_score 0.9682877747830143\n",
      "ridge 256735.0883775844 | 390.9963690238958 0.08962280311118401 2095.3160305579986 4362.6884615384615\n",
      "lasso_score 0.9681963674457598\n",
      "lasso 257475.10175248448 | 391.2923715622967 0.08969065176483197 2075.458181767971 4362.6884615384615\n",
      "######\n",
      "ridge_score 0.966107251734001\n",
      "ridge 256623.6476108018 | 388.24343172412193 0.09045239710145249 1820.7518338123446 4292.240384615385\n",
      "lasso_score 0.9663572173548542\n",
      "lasso 254730.99821874846 | 387.74322341501687 0.0903358592880304 1821.627447279032 4292.240384615385\n",
      "######\n",
      "ridge_score 0.9668958818616723\n",
      "ridge 257648.7897113489 | 394.0209278221937 0.09098772142553806 1807.3315724340318 4330.484615384616\n",
      "lasso_score 0.9670191332195269\n",
      "lasso 256689.5264846762 | 393.56196018673194 0.09088173614300611 1818.0105356425083 4330.484615384616\n",
      "######\n",
      "ridge_score 0.9684575115567052\n",
      "ridge 259242.55692556666 | 414.4569209658621 0.09430076069001005 1655.723878984194 4395.053846153846\n",
      "lasso_score 0.9684016000477706\n",
      "lasso 259702.08447881695 | 414.4225855502353 0.09429294840446618 1682.3703743681199 4395.053846153846\n",
      "######\n",
      "ridge_score 0.9679676966223023\n",
      "ridge 249115.99511704885 | 392.3516971038257 0.09059268612443969 2245.407316780089 4330.942307692308\n",
      "lasso_score 0.9680433192108371\n",
      "lasso 248527.87642405188 | 391.7325775669166 0.09044973350745157 2233.147361715953 4330.942307692308\n"
     ]
    }
   ],
   "source": [
    "from sklearn.linear_model import RidgeCV, LassoCV, SGDRegressor\n",
    "from sklearn.metrics import mean_squared_error, mean_absolute_error, max_error, r2_score\n",
    "from sklearn.preprocessing import StandardScaler\n",
    "from sklearn.model_selection import train_test_split, cross_val_score, StratifiedKFold, ShuffleSplit\n",
    "\n",
    "\n",
    "scaler = StandardScaler()\n",
    "scaler.fit(X) \n",
    "\n",
    "\n",
    "X_scaled = scaler.transform(X)\n",
    "ridge = RidgeCV(alphas=[1e-4, 1e-3, 1e-2, 1e-1, 1, 10, 100, 1000])\n",
    "# lasso = Lasso(random_state=42)\n",
    "lasso = LassoCV(random_state=42)\n",
    "\n",
    "\n",
    "skf = StratifiedKFold(n_splits=5)\n",
    "\n",
    "for train_index, test_index in skf.split(X_scaled, Y):\n",
    "    print(\"######\")\n",
    "    X_train, X_test = X_scaled[train_index], X_scaled[test_index]\n",
    "    y_train, y_test = Y[train_index], Y[test_index]\n",
    "    \n",
    "    ridge.fit(X_train, y_train)\n",
    "    y_pred = ridge.predict(X_test)\n",
    "    ridge_mse = mean_squared_error(y_test, y_pred)\n",
    "    ridge_mae = mean_absolute_error(y_test, y_pred)\n",
    "    ridge_me = max_error(y_test, y_pred)\n",
    "    print(\"ridge_score\", ridge.score(X_test, y_test))\n",
    "    print(\"ridge\", ridge_mse, \"|\", ridge_mae, ridge_mae/y_test.mean(), ridge_me, y_test.mean())\n",
    "    \n",
    "\n",
    "    lasso.fit(X_train, y_train)\n",
    "    y_pred = lasso.predict(X_test)\n",
    "    lasso_mse = mean_squared_error(y_test, y_pred)\n",
    "    lasso_mae = mean_absolute_error(y_test, y_pred)\n",
    "    lasso_me = max_error(y_test, y_pred)\n",
    "    print(\"lasso_score\", lasso.score(X_test, y_test))\n",
    "    print(\"lasso\", lasso_mse, \"|\", lasso_mae, lasso_mae/y_test.mean(), lasso_me, y_test.mean())"
   ]
  },
  {
   "cell_type": "markdown",
   "id": "9b4d6edc",
   "metadata": {},
   "source": [
    " Для приемлемых моделей предполагается, что коэффициент детерминации должен быть хотя бы не меньше 50 % (в этом случае коэффициент множественной корреляции превышает по модулю 70 %). Модели с коэффициентом детерминации выше 80 % можно признать достаточно хорошими (коэффициент корреляции превышает 90 %). Значение коэффициента детерминации 1 означает функциональную зависимость между переменными.\n",
    " \n",
    "У нас на синтетических данных явно прослеживается зависимость от количвества других задач на время начала задачи и приоритета задачи, поэтому коэфициент детерминации высокий"
   ]
  },
  {
   "cell_type": "code",
   "execution_count": 22,
   "id": "da3fb837",
   "metadata": {},
   "outputs": [
    {
     "name": "stdout",
     "output_type": "stream",
     "text": [
      "[0.96701538 0.96707708 0.9659768  0.96924047 0.96764701]\n",
      "[0.96719185 0.9671563  0.96596182 0.96916584 0.967738  ]\n",
      "0.967391349972831 0.967442760173209\n"
     ]
    }
   ],
   "source": [
    "cv = ShuffleSplit(n_splits=5, test_size=0.3, random_state=0)\n",
    "ridge_cvs = cross_val_score(ridge, X_scaled, Y, cv=cv)\n",
    "lasso_cvs = cross_val_score(lasso, X_scaled, Y, cv=cv)\n",
    "print(ridge_cvs)\n",
    "print(lasso_cvs)\n",
    "print(ridge_cvs.mean(), lasso_cvs.mean())"
   ]
  },
  {
   "cell_type": "code",
   "execution_count": 23,
   "id": "8771db71",
   "metadata": {},
   "outputs": [
    {
     "data": {
      "text/plain": [
       "Index(['priority', 'var_count', 'start_is_weekend', 'due_is_weekend',\n",
       "       'other_task_on_start', 'process_name_Заказ товара',\n",
       "       'process_name_договор', 'process_name_закупка',\n",
       "       'process_name_информирование', 'task_name_Оформить заявку',\n",
       "       'task_name_обзвон покупателей', 'task_name_оформление договора',\n",
       "       'task_name_проверка склада', 'owner_name_BOSS', 'assigner_Глеб',\n",
       "       'assigner_Миша', 'assigner_Соня', 'start_dow_0', 'start_dow_1',\n",
       "       'start_dow_2', 'start_dow_3', 'start_dow_4', 'start_dow_5',\n",
       "       'start_dow_6', 'due_dow_0', 'due_dow_1', 'due_dow_2', 'due_dow_3',\n",
       "       'due_dow_4', 'due_dow_5', 'due_dow_6'],\n",
       "      dtype='object')"
      ]
     },
     "execution_count": 23,
     "metadata": {},
     "output_type": "execute_result"
    }
   ],
   "source": [
    "X.columns"
   ]
  },
  {
   "cell_type": "markdown",
   "id": "89b61dc4",
   "metadata": {},
   "source": [
    "## predict example\n",
    "берем задачу и преобразуем под вид, который принимает модель"
   ]
  },
  {
   "cell_type": "code",
   "execution_count": 24,
   "id": "0ad4d79f",
   "metadata": {},
   "outputs": [
    {
     "data": {
      "text/plain": [
       "TaskRawData(process_name='Заказ товара', task_name='проверка склада', owner_name='BOSS', assigner='Глеб', start_time=datetime.datetime(2021, 8, 31, 17, 51, 58), end_time=datetime.datetime(2021, 8, 31, 18, 51, 18, 302065), due_time=datetime.datetime(2021, 8, 31, 18, 51, 58), priority=50, var_count=1)"
      ]
     },
     "execution_count": 24,
     "metadata": {},
     "output_type": "execute_result"
    }
   ],
   "source": [
    "task_example = task_list[0]\n",
    "task_example"
   ]
  },
  {
   "cell_type": "code",
   "execution_count": 25,
   "id": "97c60bee",
   "metadata": {},
   "outputs": [],
   "source": [
    "input_other_task_on_start = 5\n",
    "assigner = \"Миша\"\n",
    "\n",
    "# input_data = {\"priority\": task_example.priority,\n",
    "#  \"var_count\": task_example.var_count,\n",
    "\n",
    "#  \"start_is_weekend\": 1 if task_example.start_time.date().weekday in (5, 6) else 0,\n",
    "#  \"due_dow\": task_example.due_time.date().weekday,\n",
    "#  \"due_is_weekend\": 1 if task_example.due_time.date().weekday else 0,\n",
    "#  \"other_task_on_start\": other_task_on_start,\n",
    "#  f\"process_name_{task_example.process_name}\": 1,\n",
    "#  f\"task_name_{task_example.task_name}\": 1,\n",
    "#  f\"assigner_{assigner}\": 1,\n",
    "#  f\"owner_name_{task_example.owner_name}\": 1,\n",
    "#  f\"start_dow_{task_example.start_time.date().weekday()}\": 1,\n",
    "#  f\"due_dow_{task_example.start_time.date().weekday()}\": 1\n",
    "# }\n",
    "# input_data"
   ]
  },
  {
   "cell_type": "code",
   "execution_count": 26,
   "id": "b4783f86",
   "metadata": {},
   "outputs": [
    {
     "data": {
      "text/html": [
       "<div>\n",
       "<style scoped>\n",
       "    .dataframe tbody tr th:only-of-type {\n",
       "        vertical-align: middle;\n",
       "    }\n",
       "\n",
       "    .dataframe tbody tr th {\n",
       "        vertical-align: top;\n",
       "    }\n",
       "\n",
       "    .dataframe thead th {\n",
       "        text-align: right;\n",
       "    }\n",
       "</style>\n",
       "<table border=\"1\" class=\"dataframe\">\n",
       "  <thead>\n",
       "    <tr style=\"text-align: right;\">\n",
       "      <th></th>\n",
       "      <th>process_name</th>\n",
       "      <th>task_name</th>\n",
       "      <th>owner_name</th>\n",
       "      <th>assigner</th>\n",
       "      <th>start_time</th>\n",
       "      <th>end_time</th>\n",
       "      <th>due_time</th>\n",
       "      <th>priority</th>\n",
       "      <th>var_count</th>\n",
       "    </tr>\n",
       "  </thead>\n",
       "  <tbody>\n",
       "    <tr>\n",
       "      <th>0</th>\n",
       "      <td>Заказ товара</td>\n",
       "      <td>проверка склада</td>\n",
       "      <td>BOSS</td>\n",
       "      <td>Миша</td>\n",
       "      <td>2021-08-31 17:51:58</td>\n",
       "      <td>NaN</td>\n",
       "      <td>2021-08-31 18:51:58</td>\n",
       "      <td>50</td>\n",
       "      <td>1</td>\n",
       "    </tr>\n",
       "  </tbody>\n",
       "</table>\n",
       "</div>"
      ],
      "text/plain": [
       "   process_name        task_name owner_name assigner          start_time  \\\n",
       "0  Заказ товара  проверка склада       BOSS     Миша 2021-08-31 17:51:58   \n",
       "\n",
       "   end_time            due_time  priority  var_count  \n",
       "0       NaN 2021-08-31 18:51:58        50          1  "
      ]
     },
     "execution_count": 26,
     "metadata": {},
     "output_type": "execute_result"
    }
   ],
   "source": [
    "assigner = \"Миша\"\n",
    "task_example.assigner = assigner\n",
    "task_example.end_time = np.nan\n",
    "input_df = pd.DataFrame.from_records([asdict(task_example)])\n",
    "input_df"
   ]
  },
  {
   "cell_type": "code",
   "execution_count": 27,
   "id": "cea6cdad",
   "metadata": {},
   "outputs": [],
   "source": [
    "input_df['start_dow'] = input_df['start_time'].apply(lambda x: x.date().weekday())\n",
    "input_df['start_is_weekend'] = input_df['start_time'].apply(lambda x: 1 if x.date().weekday() in (5, 6) else 0)\n",
    "# due day of week\n",
    "input_df['due_dow'] = input_df['due_time'].apply(lambda x: x.date().weekday())\n",
    "input_df['due_is_weekend'] = input_df['due_time'].apply(lambda x: 1 if x.date().weekday() in (5, 6) else 0)"
   ]
  },
  {
   "cell_type": "code",
   "execution_count": 28,
   "id": "5d33c532",
   "metadata": {},
   "outputs": [],
   "source": [
    "input_df['other_task_on_start'] = input_other_task_on_start"
   ]
  },
  {
   "cell_type": "code",
   "execution_count": 29,
   "id": "88f56eb3",
   "metadata": {},
   "outputs": [
    {
     "data": {
      "text/html": [
       "<div>\n",
       "<style scoped>\n",
       "    .dataframe tbody tr th:only-of-type {\n",
       "        vertical-align: middle;\n",
       "    }\n",
       "\n",
       "    .dataframe tbody tr th {\n",
       "        vertical-align: top;\n",
       "    }\n",
       "\n",
       "    .dataframe thead th {\n",
       "        text-align: right;\n",
       "    }\n",
       "</style>\n",
       "<table border=\"1\" class=\"dataframe\">\n",
       "  <thead>\n",
       "    <tr style=\"text-align: right;\">\n",
       "      <th></th>\n",
       "      <th>process_name</th>\n",
       "      <th>task_name</th>\n",
       "      <th>owner_name</th>\n",
       "      <th>assigner</th>\n",
       "      <th>start_time</th>\n",
       "      <th>end_time</th>\n",
       "      <th>due_time</th>\n",
       "      <th>priority</th>\n",
       "      <th>var_count</th>\n",
       "      <th>start_dow</th>\n",
       "      <th>start_is_weekend</th>\n",
       "      <th>due_dow</th>\n",
       "      <th>due_is_weekend</th>\n",
       "      <th>other_task_on_start</th>\n",
       "      <th>process_name_Заказ товара</th>\n",
       "      <th>task_name_проверка склада</th>\n",
       "      <th>owner_name_BOSS</th>\n",
       "      <th>assigner_Миша</th>\n",
       "      <th>start_dow_1</th>\n",
       "      <th>due_dow_1</th>\n",
       "    </tr>\n",
       "  </thead>\n",
       "  <tbody>\n",
       "    <tr>\n",
       "      <th>0</th>\n",
       "      <td>Заказ товара</td>\n",
       "      <td>проверка склада</td>\n",
       "      <td>BOSS</td>\n",
       "      <td>Миша</td>\n",
       "      <td>2021-08-31 17:51:58</td>\n",
       "      <td>NaN</td>\n",
       "      <td>2021-08-31 18:51:58</td>\n",
       "      <td>50</td>\n",
       "      <td>1</td>\n",
       "      <td>1</td>\n",
       "      <td>0</td>\n",
       "      <td>1</td>\n",
       "      <td>0</td>\n",
       "      <td>5</td>\n",
       "      <td>1</td>\n",
       "      <td>1</td>\n",
       "      <td>1</td>\n",
       "      <td>1</td>\n",
       "      <td>1</td>\n",
       "      <td>1</td>\n",
       "    </tr>\n",
       "  </tbody>\n",
       "</table>\n",
       "</div>"
      ],
      "text/plain": [
       "   process_name        task_name owner_name assigner          start_time  \\\n",
       "0  Заказ товара  проверка склада       BOSS     Миша 2021-08-31 17:51:58   \n",
       "\n",
       "   end_time            due_time  priority  var_count  start_dow  \\\n",
       "0       NaN 2021-08-31 18:51:58        50          1          1   \n",
       "\n",
       "   start_is_weekend  due_dow  due_is_weekend  other_task_on_start  \\\n",
       "0                 0        1               0                    5   \n",
       "\n",
       "   process_name_Заказ товара  task_name_проверка склада  owner_name_BOSS  \\\n",
       "0                          1                          1                1   \n",
       "\n",
       "   assigner_Миша  start_dow_1  due_dow_1  \n",
       "0              1            1          1  "
      ]
     },
     "execution_count": 29,
     "metadata": {},
     "output_type": "execute_result"
    }
   ],
   "source": [
    "for sign in categorial_sign:\n",
    "    tmp = pd.get_dummies(input_df[sign], prefix=sign)\n",
    "    input_df = pd.concat([input_df,tmp], axis=1)\n",
    "input_df"
   ]
  },
  {
   "cell_type": "code",
   "execution_count": 35,
   "id": "a009a8c6",
   "metadata": {},
   "outputs": [],
   "source": [
    "input_df = input_df.drop(columns=need_drop)"
   ]
  },
  {
   "cell_type": "code",
   "execution_count": 36,
   "id": "e1eb3948",
   "metadata": {},
   "outputs": [],
   "source": [
    "input_vals = []\n",
    "for i, col in enumerate(X.columns):\n",
    "    if col not in input_df:\n",
    "        input_vals.append(0)\n",
    "    else:\n",
    "        input_vals.append(input_df[col].values[0])\n",
    "\n",
    "input_vals = np.array(input_vals).reshape(1, -1)\n",
    "\n",
    "\n",
    "input_vals_scaled = scaler.transform(input_vals)\n"
   ]
  },
  {
   "cell_type": "code",
   "execution_count": 42,
   "id": "6abc6f57",
   "metadata": {},
   "outputs": [
    {
     "name": "stdout",
     "output_type": "stream",
     "text": [
      "[5460.84557159]\n"
     ]
    }
   ],
   "source": [
    "print(ridge.predict(input_vals_scaled))"
   ]
  },
  {
   "cell_type": "code",
   "execution_count": null,
   "id": "b116ff47",
   "metadata": {},
   "outputs": [],
   "source": []
  },
  {
   "cell_type": "code",
   "execution_count": null,
   "id": "fc5bb0fb",
   "metadata": {},
   "outputs": [],
   "source": []
  }
 ],
 "metadata": {
  "kernelspec": {
   "display_name": "Python 3 (ipykernel)",
   "language": "python",
   "name": "python3"
  },
  "language_info": {
   "codemirror_mode": {
    "name": "ipython",
    "version": 3
   },
   "file_extension": ".py",
   "mimetype": "text/x-python",
   "name": "python",
   "nbconvert_exporter": "python",
   "pygments_lexer": "ipython3",
   "version": "3.8.10"
  }
 },
 "nbformat": 4,
 "nbformat_minor": 5
}
